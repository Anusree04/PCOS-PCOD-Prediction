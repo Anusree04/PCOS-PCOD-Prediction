{
  "nbformat": 4,
  "nbformat_minor": 0,
  "metadata": {
    "colab": {
      "provenance": [],
      "authorship_tag": "ABX9TyN/+WCBc1rDWR2GFANq7ftQ",
      "include_colab_link": true
    },
    "kernelspec": {
      "name": "python3",
      "display_name": "Python 3"
    },
    "language_info": {
      "name": "python"
    }
  },
  "cells": [
    {
      "cell_type": "markdown",
      "metadata": {
        "id": "view-in-github",
        "colab_type": "text"
      },
      "source": [
        "<a href=\"https://colab.research.google.com/github/Anusree04/PCOS-PCOD-Prediction/blob/main/pcod_pcos_prediction.ipynb\" target=\"_parent\"><img src=\"https://colab.research.google.com/assets/colab-badge.svg\" alt=\"Open In Colab\"/></a>"
      ]
    },
    {
      "cell_type": "code",
      "execution_count": 24,
      "metadata": {
        "id": "Dtc-Izg_jUE7"
      },
      "outputs": [],
      "source": [
        "import pandas as pd\n",
        "import numpy as np\n",
        "import matplotlib.pyplot as plt\n",
        "import seaborn as sns\n",
        "import joblib\n",
        "from sklearn.model_selection import train_test_split\n",
        "from sklearn.preprocessing import StandardScaler\n",
        "from sklearn.ensemble import RandomForestClassifier\n",
        "from sklearn.metrics import classification_report, confusion_matrix, accuracy_score\n"
      ]
    },
    {
      "cell_type": "code",
      "source": [
        "# Load the dataset\n",
        "data = pd.read_csv('/content/PCOS_dataset.csv')  # Replace with the correct path to your dataset\n",
        "\n",
        "# Display basic information\n",
        "print(data.info())\n",
        "print(data.describe())\n"
      ],
      "metadata": {
        "colab": {
          "base_uri": "https://localhost:8080/"
        },
        "id": "xrWZHLERkFtX",
        "outputId": "3b0aaeaf-0259-4091-c3ea-d153958f55af"
      },
      "execution_count": 25,
      "outputs": [
        {
          "output_type": "stream",
          "name": "stdout",
          "text": [
            "<class 'pandas.core.frame.DataFrame'>\n",
            "RangeIndex: 999 entries, 0 to 998\n",
            "Data columns (total 46 columns):\n",
            " #   Column                  Non-Null Count  Dtype  \n",
            "---  ------                  --------------  -----  \n",
            " 0   Sl. No                  541 non-null    float64\n",
            " 1   Patient File No.        541 non-null    float64\n",
            " 2   PCOS (Y/N)              541 non-null    float64\n",
            " 3    Age (yrs)              541 non-null    float64\n",
            " 4   Weight (Kg)             541 non-null    float64\n",
            " 5   height^2                541 non-null    float64\n",
            " 6   Height(Cm)              541 non-null    float64\n",
            " 7   BMI                     541 non-null    float64\n",
            " 8   Blood Group             541 non-null    float64\n",
            " 9   Pulse rate(bpm)         541 non-null    float64\n",
            " 10  RR (breaths/min)        541 non-null    float64\n",
            " 11  Hb(g/dl)                541 non-null    float64\n",
            " 12  Cycle(R/I)              541 non-null    float64\n",
            " 13  Cycle length(days)      541 non-null    float64\n",
            " 14  Marraige Status (Yrs)   540 non-null    float64\n",
            " 15  Pregnant(Y/N)           541 non-null    float64\n",
            " 16  No. of aborptions       541 non-null    float64\n",
            " 17    I   beta-HCG(mIU/mL)  541 non-null    float64\n",
            " 18  II    beta-HCG(mIU/mL)  541 non-null    object \n",
            " 19  FSH(mIU/mL)             541 non-null    float64\n",
            " 20  LH(mIU/mL)              541 non-null    float64\n",
            " 21  FSH/LH                  541 non-null    object \n",
            " 22  Hip(inch)               541 non-null    float64\n",
            " 23  Waist(inch)             541 non-null    float64\n",
            " 24  Waist:Hip Ratio         541 non-null    object \n",
            " 25  TSH (mIU/L)             541 non-null    float64\n",
            " 26  AMH(ng/mL)              541 non-null    object \n",
            " 27  PRL(ng/mL)              541 non-null    float64\n",
            " 28  Vit D3 (ng/mL)          541 non-null    float64\n",
            " 29  PRG(ng/mL)              541 non-null    float64\n",
            " 30  RBS(mg/dl)              541 non-null    float64\n",
            " 31  Weight gain(Y/N)        541 non-null    float64\n",
            " 32  hair growth(Y/N)        541 non-null    float64\n",
            " 33  Skin darkening (Y/N)    541 non-null    float64\n",
            " 34  Hair loss(Y/N)          541 non-null    float64\n",
            " 35  Pimples(Y/N)            541 non-null    float64\n",
            " 36  Fast food (Y/N)         540 non-null    float64\n",
            " 37  Reg.Exercise(Y/N)       541 non-null    float64\n",
            " 38  BP _Systolic (mmHg)     541 non-null    float64\n",
            " 39  BP _Diastolic (mmHg)    541 non-null    float64\n",
            " 40  Follicle No. (L)        541 non-null    float64\n",
            " 41  Follicle No. (R)        541 non-null    float64\n",
            " 42  Avg. F size (L) (mm)    541 non-null    float64\n",
            " 43  Avg. F size (R) (mm)    541 non-null    float64\n",
            " 44  Endometrium (mm)        541 non-null    float64\n",
            " 45  Unnamed: 45             2 non-null      object \n",
            "dtypes: float64(41), object(5)\n",
            "memory usage: 359.1+ KB\n",
            "None\n",
            "           Sl. No  Patient File No.  PCOS (Y/N)   Age (yrs)  Weight (Kg)  \\\n",
            "count  541.000000        541.000000  541.000000  541.000000   541.000000   \n",
            "mean   271.000000        271.000000    0.327172   31.430684    59.637153   \n",
            "std    156.317519        156.317519    0.469615    5.411006    11.028287   \n",
            "min      1.000000          1.000000    0.000000   20.000000    31.000000   \n",
            "25%    136.000000        136.000000    0.000000   28.000000    52.000000   \n",
            "50%    271.000000        271.000000    0.000000   31.000000    59.000000   \n",
            "75%    406.000000        406.000000    1.000000   35.000000    65.000000   \n",
            "max    541.000000        541.000000    1.000000   48.000000   108.000000   \n",
            "\n",
            "         height^2  Height(Cm)         BMI  Blood Group  Pulse rate(bpm)   ...  \\\n",
            "count  541.000000  541.000000  541.000000   541.000000        541.000000  ...   \n",
            "mean     2.452384  156.484835   24.319501    13.802218         73.247689  ...   \n",
            "std      0.190088    6.033545    4.050901     1.840812          4.430285  ...   \n",
            "min      1.876900  137.000000   12.420000    11.000000         13.000000  ...   \n",
            "25%      2.310400  152.000000   21.710000    13.000000         72.000000  ...   \n",
            "50%      2.433600  156.000000   24.240000    14.000000         72.000000  ...   \n",
            "75%      2.560000  160.000000   26.640000    15.000000         74.000000  ...   \n",
            "max      3.240000  180.000000   38.900000    18.000000         82.000000  ...   \n",
            "\n",
            "       Pimples(Y/N)  Fast food (Y/N)  Reg.Exercise(Y/N)  BP _Systolic (mmHg)  \\\n",
            "count    541.000000       540.000000         541.000000           541.000000   \n",
            "mean       0.489834         0.514815           0.247689           114.661738   \n",
            "std        0.500359         0.500244           0.432070             7.384556   \n",
            "min        0.000000         0.000000           0.000000            12.000000   \n",
            "25%        0.000000         0.000000           0.000000           110.000000   \n",
            "50%        0.000000         1.000000           0.000000           110.000000   \n",
            "75%        1.000000         1.000000           0.000000           120.000000   \n",
            "max        1.000000         1.000000           1.000000           140.000000   \n",
            "\n",
            "       BP _Diastolic (mmHg)  Follicle No. (L)  Follicle No. (R)  \\\n",
            "count            541.000000        541.000000        541.000000   \n",
            "mean              76.927911          6.129390          6.641405   \n",
            "std                5.574112          4.229294          4.436889   \n",
            "min                8.000000          0.000000          0.000000   \n",
            "25%               70.000000          3.000000          3.000000   \n",
            "50%               80.000000          5.000000          6.000000   \n",
            "75%               80.000000          9.000000         10.000000   \n",
            "max              100.000000         22.000000         20.000000   \n",
            "\n",
            "       Avg. F size (L) (mm)  Avg. F size (R) (mm)  Endometrium (mm)  \n",
            "count            541.000000            541.000000        541.000000  \n",
            "mean              15.018115             15.451701          8.475915  \n",
            "std                3.566839              3.318848          2.165381  \n",
            "min                0.000000              0.000000          0.000000  \n",
            "25%               13.000000             13.000000          7.000000  \n",
            "50%               15.000000             16.000000          8.500000  \n",
            "75%               18.000000             18.000000          9.800000  \n",
            "max               24.000000             24.000000         18.000000  \n",
            "\n",
            "[8 rows x 41 columns]\n"
          ]
        }
      ]
    },
    {
      "cell_type": "code",
      "source": [
        "data.columns"
      ],
      "metadata": {
        "colab": {
          "base_uri": "https://localhost:8080/"
        },
        "id": "qVYcTs7VqJYE",
        "outputId": "892bbd77-f2e1-484b-9fcf-6694694b5bb3"
      },
      "execution_count": 26,
      "outputs": [
        {
          "output_type": "execute_result",
          "data": {
            "text/plain": [
              "Index(['Sl. No', 'Patient File No.', 'PCOS (Y/N)', ' Age (yrs)', 'Weight (Kg)',\n",
              "       'height^2', 'Height(Cm)', 'BMI', 'Blood Group', 'Pulse rate(bpm) ',\n",
              "       'RR (breaths/min)', 'Hb(g/dl)', 'Cycle(R/I)', 'Cycle length(days)',\n",
              "       'Marraige Status (Yrs)', 'Pregnant(Y/N)', 'No. of aborptions',\n",
              "       '  I   beta-HCG(mIU/mL)', 'II    beta-HCG(mIU/mL)', 'FSH(mIU/mL)',\n",
              "       'LH(mIU/mL)', 'FSH/LH', 'Hip(inch)', 'Waist(inch)', 'Waist:Hip Ratio',\n",
              "       'TSH (mIU/L)', 'AMH(ng/mL)', 'PRL(ng/mL)', 'Vit D3 (ng/mL)',\n",
              "       'PRG(ng/mL)', 'RBS(mg/dl)', 'Weight gain(Y/N)', 'hair growth(Y/N)',\n",
              "       'Skin darkening (Y/N)', 'Hair loss(Y/N)', 'Pimples(Y/N)',\n",
              "       'Fast food (Y/N)', 'Reg.Exercise(Y/N)', 'BP _Systolic (mmHg)',\n",
              "       'BP _Diastolic (mmHg)', 'Follicle No. (L)', 'Follicle No. (R)',\n",
              "       'Avg. F size (L) (mm)', 'Avg. F size (R) (mm)', 'Endometrium (mm)',\n",
              "       'Unnamed: 45'],\n",
              "      dtype='object')"
            ]
          },
          "metadata": {},
          "execution_count": 26
        }
      ]
    },
    {
      "cell_type": "code",
      "source": [
        "# Inspect the dataset\n",
        "print(\"Dataset shape:\", data.shape)\n",
        "print(data.head())\n",
        "print(data.info())"
      ],
      "metadata": {
        "colab": {
          "base_uri": "https://localhost:8080/"
        },
        "id": "6SZoiK5TsRcl",
        "outputId": "8f1ea076-54e3-48aa-89ef-5f1d969d83c0"
      },
      "execution_count": 27,
      "outputs": [
        {
          "output_type": "stream",
          "name": "stdout",
          "text": [
            "Dataset shape: (999, 46)\n",
            "   Sl. No  Patient File No.  PCOS (Y/N)   Age (yrs)  Weight (Kg)  height^2  \\\n",
            "0     1.0               1.0         0.0        28.0         44.6  2.310400   \n",
            "1     2.0               2.0         0.0        36.0         65.0  2.608225   \n",
            "2     3.0               3.0         1.0        33.0         68.8  2.722500   \n",
            "3     4.0               4.0         0.0        37.0         65.0  2.190400   \n",
            "4     5.0               5.0         0.0        25.0         52.0  2.592100   \n",
            "\n",
            "   Height(Cm)    BMI  Blood Group  Pulse rate(bpm)   ...  Fast food (Y/N)  \\\n",
            "0       152.0  19.30         15.0              78.0  ...              1.0   \n",
            "1       161.5  24.92         15.0              74.0  ...              0.0   \n",
            "2       165.0  25.27         11.0              72.0  ...              1.0   \n",
            "3       148.0  29.67         13.0              72.0  ...              0.0   \n",
            "4       161.0  20.06         11.0              72.0  ...              0.0   \n",
            "\n",
            "   Reg.Exercise(Y/N)  BP _Systolic (mmHg)  BP _Diastolic (mmHg)  \\\n",
            "0                0.0                110.0                  80.0   \n",
            "1                0.0                120.0                  70.0   \n",
            "2                0.0                120.0                  80.0   \n",
            "3                0.0                120.0                  70.0   \n",
            "4                0.0                120.0                  80.0   \n",
            "\n",
            "   Follicle No. (L)  Follicle No. (R)  Avg. F size (L) (mm)  \\\n",
            "0               3.0               3.0                  18.0   \n",
            "1               3.0               5.0                  15.0   \n",
            "2              13.0              15.0                  18.0   \n",
            "3               2.0               2.0                  15.0   \n",
            "4               3.0               4.0                  16.0   \n",
            "\n",
            "   Avg. F size (R) (mm) Endometrium (mm)  Unnamed: 45  \n",
            "0                  18.0              8.5          NaN  \n",
            "1                  14.0              3.7          NaN  \n",
            "2                  20.0             10.0          NaN  \n",
            "3                  14.0              7.5          NaN  \n",
            "4                  14.0              7.0          NaN  \n",
            "\n",
            "[5 rows x 46 columns]\n",
            "<class 'pandas.core.frame.DataFrame'>\n",
            "RangeIndex: 999 entries, 0 to 998\n",
            "Data columns (total 46 columns):\n",
            " #   Column                  Non-Null Count  Dtype  \n",
            "---  ------                  --------------  -----  \n",
            " 0   Sl. No                  541 non-null    float64\n",
            " 1   Patient File No.        541 non-null    float64\n",
            " 2   PCOS (Y/N)              541 non-null    float64\n",
            " 3    Age (yrs)              541 non-null    float64\n",
            " 4   Weight (Kg)             541 non-null    float64\n",
            " 5   height^2                541 non-null    float64\n",
            " 6   Height(Cm)              541 non-null    float64\n",
            " 7   BMI                     541 non-null    float64\n",
            " 8   Blood Group             541 non-null    float64\n",
            " 9   Pulse rate(bpm)         541 non-null    float64\n",
            " 10  RR (breaths/min)        541 non-null    float64\n",
            " 11  Hb(g/dl)                541 non-null    float64\n",
            " 12  Cycle(R/I)              541 non-null    float64\n",
            " 13  Cycle length(days)      541 non-null    float64\n",
            " 14  Marraige Status (Yrs)   540 non-null    float64\n",
            " 15  Pregnant(Y/N)           541 non-null    float64\n",
            " 16  No. of aborptions       541 non-null    float64\n",
            " 17    I   beta-HCG(mIU/mL)  541 non-null    float64\n",
            " 18  II    beta-HCG(mIU/mL)  541 non-null    object \n",
            " 19  FSH(mIU/mL)             541 non-null    float64\n",
            " 20  LH(mIU/mL)              541 non-null    float64\n",
            " 21  FSH/LH                  541 non-null    object \n",
            " 22  Hip(inch)               541 non-null    float64\n",
            " 23  Waist(inch)             541 non-null    float64\n",
            " 24  Waist:Hip Ratio         541 non-null    object \n",
            " 25  TSH (mIU/L)             541 non-null    float64\n",
            " 26  AMH(ng/mL)              541 non-null    object \n",
            " 27  PRL(ng/mL)              541 non-null    float64\n",
            " 28  Vit D3 (ng/mL)          541 non-null    float64\n",
            " 29  PRG(ng/mL)              541 non-null    float64\n",
            " 30  RBS(mg/dl)              541 non-null    float64\n",
            " 31  Weight gain(Y/N)        541 non-null    float64\n",
            " 32  hair growth(Y/N)        541 non-null    float64\n",
            " 33  Skin darkening (Y/N)    541 non-null    float64\n",
            " 34  Hair loss(Y/N)          541 non-null    float64\n",
            " 35  Pimples(Y/N)            541 non-null    float64\n",
            " 36  Fast food (Y/N)         540 non-null    float64\n",
            " 37  Reg.Exercise(Y/N)       541 non-null    float64\n",
            " 38  BP _Systolic (mmHg)     541 non-null    float64\n",
            " 39  BP _Diastolic (mmHg)    541 non-null    float64\n",
            " 40  Follicle No. (L)        541 non-null    float64\n",
            " 41  Follicle No. (R)        541 non-null    float64\n",
            " 42  Avg. F size (L) (mm)    541 non-null    float64\n",
            " 43  Avg. F size (R) (mm)    541 non-null    float64\n",
            " 44  Endometrium (mm)        541 non-null    float64\n",
            " 45  Unnamed: 45             2 non-null      object \n",
            "dtypes: float64(41), object(5)\n",
            "memory usage: 359.1+ KB\n",
            "None\n"
          ]
        }
      ]
    },
    {
      "cell_type": "code",
      "source": [
        "# Handle missing values\n",
        "# Replace only invalid strings, not numeric values\n",
        "\n",
        "\n",
        "data.replace('#NAME?', np.nan, inplace=True)\n",
        "\n",
        " # Replace invalid strings\n",
        " # Replace NaN in the target column with 0\n",
        "y.fillna(0, inplace=True)\n",
        "print(\"Unique values in y after correction:\", y.unique())\n",
        "print(\"Number of missing values in y after correction:\", y.isnull().sum())\n",
        "\n",
        "\n",
        "#data.fillna(data.mean(), inplace=True)  # Fill missing values with the mean"
      ],
      "metadata": {
        "colab": {
          "base_uri": "https://localhost:8080/"
        },
        "id": "1kKBib3ssjEJ",
        "outputId": "a18da6ef-2de8-4485-b631-121414339055"
      },
      "execution_count": 33,
      "outputs": [
        {
          "output_type": "stream",
          "name": "stdout",
          "text": [
            "Unique values in y after correction: [0. 1.]\n",
            "Number of missing values in y after correction: 0\n"
          ]
        }
      ]
    },
    {
      "cell_type": "code",
      "source": [
        "# Select features and target\n",
        "# Replace these columns with the ones present in your dataset\n",
        "features = [' Age (yrs)', 'Weight (Kg)',\n",
        "       'Height(Cm)', 'BMI', 'FSH(mIU/mL)', 'LH(mIU/mL)', 'FSH/LH', 'TSH (mIU/L)']\n",
        "target = 'PCOS (Y/N)'  # Update this to the actual target column name in your dataset"
      ],
      "metadata": {
        "id": "cgeZ5LXesvo_"
      },
      "execution_count": 30,
      "outputs": []
    },
    {
      "cell_type": "code",
      "source": [
        "if not all(col in data.columns for col in features + [target]):\n",
        "    print(\"Some specified columns are missing from the dataset. Please check column names.\")\n",
        "    exit()\n",
        "\n",
        "X = data[features]\n",
        "y = data[target]\n",
        "\n",
        "# Check for empty data\n",
        "if X.shape[0] == 0 or y.shape[0] == 0:\n",
        "    print(\"The dataset is empty or no rows remain after preprocessing.\")\n",
        "    exit()\n"
      ],
      "metadata": {
        "id": "h4ZgVnictpeo"
      },
      "execution_count": 31,
      "outputs": []
    },
    {
      "cell_type": "code",
      "source": [
        "# Split the dataset into training and testing sets\n",
        "X_train, X_test, y_train, y_test = train_test_split(X, y, test_size=0.2, random_state=42)\n",
        "\n",
        "# Scale the features\n",
        "scaler = StandardScaler()\n",
        "X_train = scaler.fit_transform(X_train)\n",
        "X_test = scaler.transform(X_test)\n",
        "\n",
        "# Train a Random Forest Classifier\n",
        "model = RandomForestClassifier(n_estimators=100, random_state=42)\n",
        "model.fit(X_train, y_train)\n",
        "\n",
        "# Evaluate the model\n",
        "y_pred = model.predict(X_test)"
      ],
      "metadata": {
        "id": "xAef8Hybyj-8"
      },
      "execution_count": 34,
      "outputs": []
    },
    {
      "cell_type": "code",
      "source": [
        "print(\"Number of missing values in y:\", y.isnull().sum())\n"
      ],
      "metadata": {
        "colab": {
          "base_uri": "https://localhost:8080/"
        },
        "id": "o7lbm3DEy26g",
        "outputId": "c508b077-cb35-4837-9865-2ffb99279579"
      },
      "execution_count": 35,
      "outputs": [
        {
          "output_type": "stream",
          "name": "stdout",
          "text": [
            "Number of missing values in y: 0\n"
          ]
        }
      ]
    },
    {
      "cell_type": "code",
      "source": [
        "print(\"Unique values in the target column (y):\", y.unique())\n",
        "print(\"Number of missing values in y:\", y.isnull().sum())\n"
      ],
      "metadata": {
        "colab": {
          "base_uri": "https://localhost:8080/"
        },
        "id": "FyoLSh8f0JyJ",
        "outputId": "3ae8e99b-6606-4b54-8777-8ecf5e6216df"
      },
      "execution_count": 36,
      "outputs": [
        {
          "output_type": "stream",
          "name": "stdout",
          "text": [
            "Unique values in the target column (y): [0. 1.]\n",
            "Number of missing values in y: 0\n"
          ]
        }
      ]
    },
    {
      "cell_type": "code",
      "source": [
        "print(\"\\nModel Evaluation:\")\n",
        "print(\"Accuracy:\", accuracy_score(y_test, y_pred))\n",
        "print(\"Confusion Matrix:\\n\", confusion_matrix(y_test, y_pred))\n",
        "print(\"Classification Report:\\n\", classification_report(y_test, y_pred))\n",
        "\n",
        "# Plot feature importance\n",
        "importances = model.feature_importances_\n",
        "indices = np.argsort(importances)\n",
        "plt.figure(figsize=(10, 6))\n",
        "plt.title('Feature Importances')\n",
        "plt.barh(range(len(indices)), importances[indices], align='center')\n",
        "plt.yticks(range(len(indices)), [features[i] for i in indices])\n",
        "plt.xlabel('Relative Importance')\n",
        "plt.show()"
      ],
      "metadata": {
        "colab": {
          "base_uri": "https://localhost:8080/",
          "height": 842
        },
        "id": "hLgl3lpv0-EE",
        "outputId": "382f96f8-abed-4359-de72-7f941cdfcab2"
      },
      "execution_count": 38,
      "outputs": [
        {
          "output_type": "stream",
          "name": "stdout",
          "text": [
            "\n",
            "Model Evaluation:\n",
            "Accuracy: 0.83\n",
            "Confusion Matrix:\n",
            " [[158   9]\n",
            " [ 25   8]]\n",
            "Classification Report:\n",
            "               precision    recall  f1-score   support\n",
            "\n",
            "         0.0       0.86      0.95      0.90       167\n",
            "         1.0       0.47      0.24      0.32        33\n",
            "\n",
            "    accuracy                           0.83       200\n",
            "   macro avg       0.67      0.59      0.61       200\n",
            "weighted avg       0.80      0.83      0.81       200\n",
            "\n"
          ]
        },
        {
          "output_type": "display_data",
          "data": {
            "text/plain": [
              "<Figure size 1000x600 with 1 Axes>"
            ],
            "image/png": "[encoded data removed]"
          },
          "metadata": {}
        }
      ]
    },
    {
      "cell_type": "code",
      "source": [
        "import pandas as pd\n",
        "import numpy as np\n",
        "import joblib\n",
        "\n",
        "# Define the feature names (same as your model)\n",
        "feature_names = [' Age (yrs)', 'Weight (Kg)',\n",
        "        'Height(Cm)', 'BMI', 'FSH(mIU/mL)',\n",
        "       'LH(mIU/mL)', 'FSH/LH', 'TSH (mIU/L)']\n",
        "\n",
        "def predict_pcos():\n",
        "    # Load the model and scaler\n",
        "    model = joblib.load('pcos_model.pkl')\n",
        "    scaler = joblib.load('scaler.pkl')\n",
        "\n",
        "    # Collect user input\n",
        "    user_input = []\n",
        "    print(\"Please provide the following information:\")\n",
        "\n",
        "    for feature in feature_names:\n",
        "        while True:\n",
        "            try:\n",
        "                value = float(input(f\"Enter {feature}: \"))  # Get input as a float\n",
        "                user_input.append(value)\n",
        "                break\n",
        "            except ValueError:\n",
        "                print(\"Invalid input! Please enter a valid numeric value.\")\n",
        "\n",
        "    # Convert the input to a pandas DataFrame with the correct feature names\n",
        "    user_input_df = pd.DataFrame([user_input], columns=feature_names)\n",
        "\n",
        "    # Scale the input using the same scaler used during training\n",
        "    user_input_scaled = scaler.transform(user_input_df)\n",
        "\n",
        "    # Predict using the trained model\n",
        "    prediction = model.predict(user_input_scaled)\n",
        "    prediction_proba = model.predict_proba(user_input_scaled)  # For probabilities, if supported\n",
        "\n",
        "    # Display the prediction\n",
        "    if prediction[0] == 1:\n",
        "        print(\"\\nPrediction: The user might have PCOS/PCOD.\")\n",
        "    else:\n",
        "        print(\"\\nPrediction: The user does not have PCOS/PCOD.\")\n",
        "\n",
        "    # Optionally, display the probabilities\n",
        "    print(f\"Prediction confidence: {prediction_proba[0]}\")\n",
        "\n",
        "# Call the function to take user input and predict\n",
        "predict_pcos()\n"
      ],
      "metadata": {
        "colab": {
          "base_uri": "https://localhost:8080/"
        },
        "id": "Ov6cWCUO8LSO",
        "outputId": "eaa8065a-f48e-4463-8957-1d0c4194daf7"
      },
      "execution_count": 42,
      "outputs": [
        {
          "output_type": "stream",
          "name": "stdout",
          "text": [
            "Please provide the following information:\n",
            "Enter  Age (yrs): 21\n",
            "Enter Weight (Kg): 46\n",
            "Enter Height(Cm): 145\n",
            "Enter BMI: 21.9\n",
            "Enter FSH(mIU/mL): 12\n",
            "Enter LH(mIU/mL): 7.5\n",
            "Enter FSH/LH: 1.6\n",
            "Enter TSH (mIU/L): 1.9\n",
            "\n",
            "Prediction: The user does not have PCOS/PCOD.\n",
            "Prediction confidence: [0.51 0.49]\n"
          ]
        }
      ]
    }
  ]
}